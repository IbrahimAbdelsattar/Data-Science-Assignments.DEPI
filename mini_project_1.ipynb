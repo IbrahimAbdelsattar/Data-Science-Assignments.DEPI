{
 "cells": [
  {
   "cell_type": "code",
   "execution_count": null,
   "id": "3dd69ffc-f120-49b1-9ea1-8b24e1b85d0b",
   "metadata": {},
   "outputs": [
    {
     "name": "stdout",
     "output_type": "stream",
     "text": [
      "Hello :)\n",
      "\n",
      "This is a simple calculator to calculate two numbers\n",
      "\n"
     ]
    },
    {
     "name": "stdin",
     "output_type": "stream",
     "text": [
      "Please enter the first number\n",
      " 10\n",
      "Please enter the second number\n",
      " 20\n",
      "Please choose the operator: \"add\", \"sub\", \"mult\", \"div\"\n",
      " add\n"
     ]
    },
    {
     "name": "stdout",
     "output_type": "stream",
     "text": [
      "Result: 30\n"
     ]
    },
    {
     "name": "stdin",
     "output_type": "stream",
     "text": [
      "Do you want to calculate again? (yes to continue, stop to exit)\n",
      " yes\n"
     ]
    },
    {
     "name": "stdout",
     "output_type": "stream",
     "text": [
      "Hello :)\n",
      "\n",
      "This is a simple calculator to calculate two numbers\n",
      "\n"
     ]
    },
    {
     "name": "stdin",
     "output_type": "stream",
     "text": [
      "Please enter the first number\n",
      " 20\n",
      "Please enter the second number\n",
      " 10\n",
      "Please choose the operator: \"add\", \"sub\", \"mult\", \"div\"\n",
      " jf\n"
     ]
    },
    {
     "name": "stdout",
     "output_type": "stream",
     "text": [
      "Result: Invalid operator entered.\n"
     ]
    }
   ],
   "source": [
    "# Simple calculator with loop\n",
    "\n",
    "def calculator():\n",
    "    while True:\n",
    "        print(\"Hello :)\\n\")\n",
    "        print(\"This is a simple calculator to calculate two numbers\\n\")\n",
    "        x = int(input(\"Please enter the first number\\n\"))\n",
    "        y = int(input(\"Please enter the second number\\n\"))\n",
    "        opr = input(\"\"\"Please choose the operator: \"add\", \"sub\", \"mult\", \"div\"\\n\"\"\")\n",
    "        \n",
    "        if opr.lower() == \"add\":\n",
    "            result = x + y\n",
    "\n",
    "        elif opr.lower() == \"sub\":\n",
    "            result = x - y\n",
    "\n",
    "        elif opr.lower() == \"mult\":\n",
    "            result = x * y\n",
    "\n",
    "        elif opr.lower() == \"div\":\n",
    "            if y == 0:\n",
    "                result = \"Error: Division by zero is not allowed.\"\n",
    "            else:\n",
    "                result = x / y\n",
    "\n",
    "        else:\n",
    "            result = \"Invalid operator entered.\"\n",
    "        \n",
    "        print(f\"Result: {result}\")\n",
    "        \n",
    "        again = input(\"Do you want to calculate again? (yes to continue, stop to exit)\\n\")\n",
    "        if again.lower() == \"stop\":\n",
    "            print(\"Thank you for using the calculator!\")\n",
    "            break  \n",
    "        \n",
    "calculator()\n"
   ]
  },
  {
   "cell_type": "code",
   "execution_count": null,
   "id": "2586aac6-a715-4e12-8529-d37d1f3e8e06",
   "metadata": {},
   "outputs": [],
   "source": []
  }
 ],
 "metadata": {
  "kernelspec": {
   "display_name": "Python 3 (ipykernel)",
   "language": "python",
   "name": "python3"
  },
  "language_info": {
   "codemirror_mode": {
    "name": "ipython",
    "version": 3
   },
   "file_extension": ".py",
   "mimetype": "text/x-python",
   "name": "python",
   "nbconvert_exporter": "python",
   "pygments_lexer": "ipython3",
   "version": "3.12.7"
  }
 },
 "nbformat": 4,
 "nbformat_minor": 5
}
