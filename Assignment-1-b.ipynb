{
 "cells": [
  {
   "cell_type": "markdown",
   "id": "b0e54bd3",
   "metadata": {},
   "source": [
    "## Question 1:\n",
    "Write a Python function called greet_user that takes two parameters: name (a string representing the user's name) and greeting (a string representing a greeting message). The function should print the personalized greeting message. If the greeting parameter is not provided, the function should use \"Hello\" as the default greeting.\n",
    "\n",
    "Expected Output:\n",
    "\n",
    "If the user's name is \"Alice\" and no specific greeting is provided, the function should print \"Hello, Alice!\".\n",
    "\n",
    "Please write the Python code for the greet_user function and demonstrate its usage with different examples, both with and without a specific greeting"
   ]
  },
  {
   "cell_type": "code",
   "execution_count": 3,
   "id": "37d812aa",
   "metadata": {},
   "outputs": [
    {
     "name": "stdout",
     "output_type": "stream",
     "text": [
      "Welcome Back,ibrahim!\n",
      "Hello, Ibrhaim!\n"
     ]
    }
   ],
   "source": [
    "def greet_user(name,greeting):\n",
    "    if not greeting:\n",
    "        print(f\"Hello, {name}!\")\n",
    "    else:\n",
    "        print(f\"{greeting},{name}!\")\n",
    "greet_user(\"ibrahim\",\"Welcome Back\")\n",
    "greet_user(\"Ibrhaim\",\"\")"
   ]
  },
  {
   "cell_type": "markdown",
   "id": "43a5f688",
   "metadata": {},
   "source": [
    "## Question 2:\n",
    "Write a Python program that takes two tuples as input, each containing integers, and returns a new tuple containing the element-wise sum of the corresponding elements from the input tuples. Assume the input tuples have the same length.\n",
    "\n",
    "Expected Output:\n",
    "\n",
    "If the input tuples are (1, 2, 3) and (4, 5, 6), the program should return (5, 7, 9).\n",
    "Please write the Python code to accomplish this task."
   ]
  },
  {
   "cell_type": "code",
   "execution_count": 6,
   "id": "f2e4bd5e",
   "metadata": {},
   "outputs": [
    {
     "name": "stdout",
     "output_type": "stream",
     "text": [
      "(5, 7, 9)\n"
     ]
    }
   ],
   "source": [
    "tuple1=(1,2,3)\n",
    "tuple2=(4,5,6)\n",
    "result = []\n",
    "for a, b in zip(tuple1, tuple2):\n",
    "    result.append(a + b)\n",
    "\n",
    "result = tuple(result)\n",
    "print(result)  \n"
   ]
  },
  {
   "cell_type": "markdown",
   "id": "eb50ce3a",
   "metadata": {},
   "source": [
    "## Question 3:\n",
    "Write a Python program that prompts the user to guess a secret number between 1 and 10. The program should continue to prompt the user for guesses until they correctly guess the secret number. Provide feedback to the user if their guess is too high or too low.\n",
    "\n",
    "Expected Output:\n",
    "\n",
    "If the secret number is 7 and the user's guesses are 5, 8, 7, the program should print:\n",
    "\n",
    "\"Too low! Try again.\"\n",
    "\n",
    "\"Too high! Try again.\"\n",
    "\n",
    "\"Congratulations! You guessed the secret number 7.\"\n",
    "\n",
    "Please write the Python code for this guessing game using a while loop."
   ]
  },
  {
   "cell_type": "code",
   "execution_count": null,
   "id": "227d8033",
   "metadata": {},
   "outputs": [],
   "source": [
    "# Generate a secret number between 1 and 10\n",
    "\n",
    "# Initialize the user's guess to an invalid value\n",
    "\n",
    "# Prompt the user to guess the secret number\n",
    "\n",
    "\n",
    "# End of the game\n"
   ]
  },
  {
   "cell_type": "code",
   "execution_count": 8,
   "id": "3d36701b",
   "metadata": {},
   "outputs": [
    {
     "name": "stdout",
     "output_type": "stream",
     "text": [
      "It's a guess game \n",
      "\n"
     ]
    },
    {
     "name": "stdin",
     "output_type": "stream",
     "text": [
      "I want from you to enter number between 1 to 10\n",
      " 4\n"
     ]
    },
    {
     "name": "stdout",
     "output_type": "stream",
     "text": [
      "Too low! Try again.\n"
     ]
    },
    {
     "name": "stdin",
     "output_type": "stream",
     "text": [
      "I want from you to enter number between 1 to 10\n",
      " 5\n"
     ]
    },
    {
     "name": "stdout",
     "output_type": "stream",
     "text": [
      "Congratulations! You guessed the secret number 5.\n"
     ]
    }
   ],
   "source": [
    "print(\"It's a guess game \\n\")\n",
    "while(True):\n",
    "    num=int(input(\"I want from you to enter number between 1 to 10\\n\"))\n",
    "    if num > 0 and num < 11:\n",
    "        if num == 5:\n",
    "            print(\"Congratulations! You guessed the secret number 5.\")\n",
    "            break\n",
    "        elif num > 5:\n",
    "            print(\"Too high! Try again.\")\n",
    "        elif num < 5:\n",
    "            print(\"Too low! Try again.\")\n",
    "\n",
    "    else:\n",
    "        print(\"Please enter number between 1 , 10\")"
   ]
  },
  {
   "cell_type": "markdown",
   "id": "e3c169ff",
   "metadata": {},
   "source": [
    "## Question 4:\n",
    "Write a Python program that takes a list of words as input and creates a dictionary where the keys are the unique words in the list, and the values are lists containing the indices (positions) at which each word appears in the list.\n",
    "\n",
    "Expected Output:\n",
    "\n",
    "If the input list is [\"apple\", \"banana\", \"orange\", \"banana\", \"kiwi\", \"apple\"], the program should return {'apple': [0,5], 'banana': [1,3], 'orange': [2], 'kiwi': [4]}.\n",
    "Please write the Python code to accomplish this task."
   ]
  },
  {
   "cell_type": "code",
   "execution_count": null,
   "id": "c1f00882",
   "metadata": {},
   "outputs": [],
   "source": [
    "# Take a list of words as input\n",
    "\n",
    "# Create a dictionary with word indices \n",
    "\n",
    "# Print the resulting dictionary\n"
   ]
  },
  {
   "cell_type": "code",
   "execution_count": 11,
   "id": "e3d64d4a",
   "metadata": {},
   "outputs": [
    {
     "name": "stdout",
     "output_type": "stream",
     "text": [
      "{'apple': [0, 5], 'banana': [1, 3], 'orange': [2], 'kiwi': [4]}\n"
     ]
    }
   ],
   "source": [
    "words = [\"apple\", \"banana\", \"orange\", \"banana\", \"kiwi\", \"apple\"]\n",
    "\n",
    "word_dict = {}\n",
    "\n",
    "index = 0\n",
    "\n",
    "for word in words:\n",
    "    if word not in word_dict:\n",
    "        word_dict[word] = [index]  \n",
    "    else:\n",
    "        word_dict[word].append(index)  \n",
    "    index += 1 \n",
    "print(word_dict)"
   ]
  },
  {
   "cell_type": "code",
   "execution_count": null,
   "id": "0bbb450d-ce5e-483b-9f0d-8e7c9e2f1767",
   "metadata": {},
   "outputs": [],
   "source": []
  }
 ],
 "metadata": {
  "kernelspec": {
   "display_name": "Python 3 (ipykernel)",
   "language": "python",
   "name": "python3"
  },
  "language_info": {
   "codemirror_mode": {
    "name": "ipython",
    "version": 3
   },
   "file_extension": ".py",
   "mimetype": "text/x-python",
   "name": "python",
   "nbconvert_exporter": "python",
   "pygments_lexer": "ipython3",
   "version": "3.12.7"
  }
 },
 "nbformat": 4,
 "nbformat_minor": 5
}
