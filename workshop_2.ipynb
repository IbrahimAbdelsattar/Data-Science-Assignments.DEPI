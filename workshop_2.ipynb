{
 "cells": [
  {
   "cell_type": "code",
   "execution_count": 6,
   "id": "f718b54f-cd52-4677-9029-d19acfbb7534",
   "metadata": {},
   "outputs": [
    {
     "name": "stdin",
     "output_type": "stream",
     "text": [
      "Please enter the first number\n",
      " 20\n",
      "Please enter the second number\n",
      " 40\n",
      "Please choose the operator: \"add\", \"sub\", \"mult\", \"div\"\n",
      " div\n"
     ]
    },
    {
     "name": "stdout",
     "output_type": "stream",
     "text": [
      "Result: 0.5\n"
     ]
    }
   ],
   "source": [
    "\n",
    "def calc():\n",
    "    while True:\n",
    "        x = int(input(\"Please enter the first number\\n\"))\n",
    "        y = int(input(\"Please enter the second number\\n\"))\n",
    "        opr = input(\"\"\"Please choose the operator: \"add\", \"sub\", \"mult\", \"div\"\\n\"\"\")\n",
    "        \n",
    "        if opr.lower() == \"add\":\n",
    "            result = x + y\n",
    "\n",
    "        elif opr.lower() == \"sub\":\n",
    "            result = x - y\n",
    "\n",
    "        elif opr.lower() == \"mult\":\n",
    "            result = x * y\n",
    "\n",
    "        elif opr.lower() == \"div\":\n",
    "            if y == 0:\n",
    "                result = \"Error: Division by zero is not allowed.\"\n",
    "            else:\n",
    "                result = x / y\n",
    "\n",
    "        else:\n",
    "            result = \"Invalid operator entered.\"\n",
    "        \n",
    "        print(f\"Result: {result}\")\n",
    "        break\n",
    "calc()\n"
   ]
  },
  {
   "cell_type": "code",
   "execution_count": 26,
   "id": "6007e137-2a90-4e01-aaa6-e5d78f7df639",
   "metadata": {},
   "outputs": [
    {
     "name": "stdout",
     "output_type": "stream",
     "text": [
      "[10, 20, 30]\n",
      "[50, 60]\n"
     ]
    }
   ],
   "source": [
    "a=[10,20,30,40,50,60]\n",
    "print(a[0:3])\n",
    "print(a[4:])"
   ]
  },
  {
   "cell_type": "code",
   "execution_count": 34,
   "id": "3d280e10-1958-4b1d-9377-477a1a37f947",
   "metadata": {},
   "outputs": [
    {
     "name": "stdin",
     "output_type": "stream",
     "text": [
      "Please enter string to print it in ( All uppercase letters,  All lowercase letters\n",
      ", Reverse order) ibrahim\n"
     ]
    },
    {
     "name": "stdout",
     "output_type": "stream",
     "text": [
      "The Uppercase: IBRAHIM\n",
      "The Lowercase: ibrahim\n",
      "The reversed order: miharbi\n"
     ]
    }
   ],
   "source": [
    "b=str(input(\"\"\"Please enter string to print it in ( All uppercase letters,  All lowercase letters\n",
    ", Reverse order)\"\"\"))\n",
    "print(f\"The Uppercase: {b.upper()}\")\n",
    "print(f\"The Lowercase: {b.lower()}\")\n",
    "print(f\"The reversed order: {b[::-1]}\")"
   ]
  },
  {
   "cell_type": "code",
   "execution_count": 36,
   "id": "9a674053-ae02-4e96-a8fb-01c01bd728ed",
   "metadata": {},
   "outputs": [
    {
     "name": "stdin",
     "output_type": "stream",
     "text": [
      "Please enter number to check if number even or odd \n",
      " 5\n"
     ]
    },
    {
     "name": "stdout",
     "output_type": "stream",
     "text": [
      "The number (5) is odd\n"
     ]
    }
   ],
   "source": [
    "i=int(input(\"Please enter number to check if number even or odd \\n\"))\n",
    "if i % 2 == 0:\n",
    "    print(f\"The number ({i}) is even\")\n",
    "else:\n",
    "    print(f\"The number ({i}) is odd\")"
   ]
  },
  {
   "cell_type": "code",
   "execution_count": 48,
   "id": "59cb9ba2-a668-426b-b16c-310f35a34ea8",
   "metadata": {},
   "outputs": [
    {
     "name": "stdout",
     "output_type": "stream",
     "text": [
      "[15, 30, 45]\n"
     ]
    }
   ],
   "source": [
    "m = [num for num in range(1, 51) if num % 3 == 0 and num % 5 == 0]\n",
    "print(m)"
   ]
  },
  {
   "cell_type": "code",
   "execution_count": 76,
   "id": "c5b1699a-8d85-4f42-a7a4-b2b67c879410",
   "metadata": {},
   "outputs": [
    {
     "name": "stdin",
     "output_type": "stream",
     "text": [
      "Please enter number to calculate the factorial number \n",
      " 10\n"
     ]
    },
    {
     "data": {
      "text/plain": [
       "3628800"
      ]
     },
     "execution_count": 76,
     "metadata": {},
     "output_type": "execute_result"
    }
   ],
   "source": [
    "def factorial():\n",
    "    h=int(input(\"Please enter number to calculate the factorial number \\n\"))\n",
    "    num=1\n",
    "    for i in range(1,h+1):\n",
    "        num*=i\n",
    "    return num\n",
    "factorial()"
   ]
  },
  {
   "cell_type": "code",
   "execution_count": 60,
   "id": "24a24c6a-140e-4f11-bed0-8b4031b9ae2b",
   "metadata": {},
   "outputs": [
    {
     "name": "stdout",
     "output_type": "stream",
     "text": [
      "[4, 16, 36, 64, 100, 144, 196, 256, 324, 400]\n"
     ]
    }
   ],
   "source": [
    "list=[num*num for num in range(1,21) if num % 2 == 0]\n",
    "print(list)"
   ]
  },
  {
   "cell_type": "code",
   "execution_count": 62,
   "id": "20164669-cf44-429b-91de-e4db5ec54abd",
   "metadata": {},
   "outputs": [
    {
     "name": "stdin",
     "output_type": "stream",
     "text": [
      "Please enter a string:  ibrahim\n"
     ]
    },
    {
     "name": "stdout",
     "output_type": "stream",
     "text": [
      "Character frequencies: {'i': 2, 'b': 1, 'r': 1, 'a': 1, 'h': 1, 'm': 1}\n"
     ]
    }
   ],
   "source": [
    "s = input(\"Please enter a string: \")\n",
    "char_frequency = {}\n",
    "\n",
    "for char in s:\n",
    "    char_frequency[char] = char_frequency.get(char, 0) + 1\n",
    "\n",
    "print(\"Character frequencies:\", char_frequency)\n"
   ]
  },
  {
   "cell_type": "code",
   "execution_count": 74,
   "id": "b6866c5d-056a-4018-b3dd-5da46e3fef59",
   "metadata": {},
   "outputs": [
    {
     "name": "stdin",
     "output_type": "stream",
     "text": [
      "Enter a number:  5\n"
     ]
    },
    {
     "name": "stdout",
     "output_type": "stream",
     "text": [
      "1\n",
      "12\n",
      "123\n",
      "1234\n",
      "12345\n"
     ]
    }
   ],
   "source": [
    "n = int(input(\"Enter a number: \"))\n",
    "\n",
    "for i in range(1, n + 1):\n",
    "    for j in range(1, i + 1):\n",
    "        print(j, end=\"\")\n",
    "    print()\n"
   ]
  },
  {
   "cell_type": "code",
   "execution_count": 82,
   "id": "aac44454-e44b-4d25-991a-c17c15afc807",
   "metadata": {},
   "outputs": [
    {
     "name": "stdin",
     "output_type": "stream",
     "text": [
      "Please enter the first number \n",
      " 10\n",
      "Please enter the second number \n",
      " 0\n"
     ]
    },
    {
     "name": "stdout",
     "output_type": "stream",
     "text": [
      "The second number shouldn't equal zero\n"
     ]
    }
   ],
   "source": [
    "x=int(input(\"Please enter the first number \\n\"))\n",
    "y=int(input(\"Please enter the second number \\n\"))\n",
    "try:\n",
    "    print(x/y)\n",
    "except:\n",
    "    print(\"The second number shouldn't equal zero\")"
   ]
  },
  {
   "cell_type": "code",
   "execution_count": null,
   "id": "8d5313bc-d9b2-4781-9585-710138c7d649",
   "metadata": {},
   "outputs": [],
   "source": []
  }
 ],
 "metadata": {
  "kernelspec": {
   "display_name": "Python 3 (ipykernel)",
   "language": "python",
   "name": "python3"
  },
  "language_info": {
   "codemirror_mode": {
    "name": "ipython",
    "version": 3
   },
   "file_extension": ".py",
   "mimetype": "text/x-python",
   "name": "python",
   "nbconvert_exporter": "python",
   "pygments_lexer": "ipython3",
   "version": "3.12.7"
  }
 },
 "nbformat": 4,
 "nbformat_minor": 5
}
